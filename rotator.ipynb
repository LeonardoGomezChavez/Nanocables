{
  "nbformat": 4,
  "nbformat_minor": 0,
  "metadata": {
    "colab": {
      "provenance": []
    },
    "kernelspec": {
      "name": "python3",
      "display_name": "Python 3"
    },
    "language_info": {
      "name": "python"
    }
  },
  "cells": [
    {
      "cell_type": "markdown",
      "source": [
        "## **Notebook associated with the article \"Supramolecular Polymers of Amino-triazines vs. Amino-pyrimidines: How key Interactions Control their Thermodynamic Stability\"**\n",
        "\n"
      ],
      "metadata": {
        "id": "5qCRHU4L_W5W"
      }
    },
    {
      "cell_type": "markdown",
      "source": [
        "## install Pymol"
      ],
      "metadata": {
        "id": "BBtPHNIdXDPc"
      },
       "source": [
        "<a href=\"https://colab.research.google.com/github/leito77/Nanocables/blob/main/rotator.ipynb\" target=\"_parent\"><img src=\"https://colab.research.google.com/assets/colab-badge.svg\" alt=\"Open In Colab\"/></a>"
      ]
    },
    {
      "cell_type": "code",
      "source": [
        "from IPython.utils import io\n",
        "import tqdm.notebook\n",
        "import os\n",
        "\n",
        "total = 100\n",
        "with tqdm.notebook.tqdm(total=total) as pbar:\n",
        "  with io.capture_output() as captured:\n",
        "\n",
        "    !pip install -q condacolab\n",
        "    import condacolab\n",
        "    condacolab.install()\n",
        "\n",
        "    import sys\n",
        "    sys.path.append('/usr/local/lib/python3.7/site-packages/')\n",
        "\n",
        "    # Install PyMOL\n",
        "    %shell mamba install -c schrodinger pymol-bundle --yes\n",
        "\n",
        "        # Mount Google Drive and upload your PyMOL license\n",
        "        #from google.colab import drive\n",
        "        #drive.mount(\"/content/drive\")\n",
        "        #%shell cp ./drive/MyDrive/Colab\\ Notebooks/license.lic .\n",
        "\n"
      ],
      "metadata": {
        "id": "Ch9hqza5BTax"
      },
      "execution_count": null,
      "outputs": []
    },
    {
      "cell_type": "markdown",
      "source": [
        "## **Set working directory to save images**"
      ],
      "metadata": {
        "id": "IsD3SiIV_XXe"
      }
    },
    {
      "cell_type": "code",
      "execution_count": null,
      "metadata": {
        "id": "q_VEJL6I_P90"
      },
      "outputs": [],
      "source": [
        "#@title **Load Google drive**\n",
        "from google.colab import drive\n",
        "drive.mount('/content/drive', force_remount=True)"
      ]
    },
    {
      "cell_type": "code",
      "source": [
        "#@title **Making folders to save outputs**\n",
        "import os\n",
        "folder_name = 'save_nanocable_data'\n",
        "\n",
        "# Especifica la ruta donde se debe crear la carpeta\n",
        "path_folder = '/content/drive/My Drive/'\n",
        "\n",
        "work_folder=os.path.join(path_folder, folder_name)\n",
        "\n",
        "# Utiliza la función os.makedirs() para crear la carpeta\n",
        "try:\n",
        "    os.makedirs(os.path.join(work_folder))\n",
        "    print('Folder created successfully')\n",
        "except OSError as e:\n",
        "    print(f'Error creating folder: {e}')\n"
      ],
      "metadata": {
        "id": "MmneQnzp_dWJ"
      },
      "execution_count": null,
      "outputs": []
    },
    {
      "cell_type": "markdown",
      "source": [
        "## **Downloading necesary data**"
      ],
      "metadata": {
        "id": "E2IRgsV3_-oN"
      }
    },
    {
      "cell_type": "code",
      "source": [
        "!pip install py3Dmol"
      ],
      "metadata": {
        "id": "AClM-0sh_9-8"
      },
      "execution_count": null,
      "outputs": []
    },
    {
      "cell_type": "code",
      "source": [
        "#@title **Cloning GitHub repository**\n",
        "!git clone https://github.com/LeonardoGomezChavez/Nanocables.git"
      ],
      "metadata": {
        "id": "7moUPltf_v-I"
      },
      "execution_count": null,
      "outputs": []
    },
    {
      "cell_type": "code",
      "source": [
        "#@title **Open folder**\n",
        "%cd Nanocables"
      ],
      "metadata": {
        "id": "aL0o4_yT_0XG"
      },
      "execution_count": null,
      "outputs": []
    },
    {
      "cell_type": "code",
      "source": [
        "#@title **list of files**\n",
        "%ls"
      ],
      "metadata": {
        "id": "IDVyr2pF_1mh"
      },
      "execution_count": null,
      "outputs": []
    },
    {
      "cell_type": "code",
      "source": [
        "#@title **import modules**\n",
        "import py3Dmol\n",
        "from pymol import cmd\n",
        "from IPython.display import Image\n",
        "import pandas as pd"
      ],
      "metadata": {
        "id": "QBv2oZT6_4nq"
      },
      "execution_count": null,
      "outputs": []
    },
    {
      "cell_type": "code",
      "source": [
        "#@title **Load files**\n",
        "name_file=\"tapas_CA_rosetax1_nanocable.pdb\"  #CHANGE NAME FILE\n",
        "name_base = name_file.split(\".\")[0]"
      ],
      "metadata": {
        "id": "eitFDfiCAIp0"
      },
      "execution_count": null,
      "outputs": []
    },
    {
      "cell_type": "code",
      "source": [
        "# Reads the PDB file and separates columns based on spaces\n",
        "data = []\n",
        "with open(name_file, 'r') as file:\n",
        "    for line in file:\n",
        "        if line.startswith('ATOM'):\n",
        "            parts = line.split()\n",
        "            atom = parts[0]\n",
        "            atom_number = parts[1]\n",
        "            atom_type = parts[2]\n",
        "            atom_name = parts[3]\n",
        "            residue_number = (parts[4])\n",
        "            x = float(parts[5])\n",
        "            y = float(parts[6])\n",
        "            z = float(parts[7])\n",
        "            occupancy = (parts[8])\n",
        "\n",
        "            data.append([atom,atom_number,atom_type, atom_name, residue_number, x, y, z,occupancy])\n",
        "\n",
        "# Create a Pandas DataFrame with the obtained data\n",
        "df = pd.DataFrame(data, columns=[\"atom\", \"atom_number\",'Atom Type', 'Atom Name', 'Residue Number', 'X', 'Y', 'Z',\"occupancy\"])\n",
        "df"
      ],
      "metadata": {
        "id": "FikcRX3YF09H"
      },
      "execution_count": null,
      "outputs": []
    },
    {
      "cell_type": "code",
      "source": [
        "#@title **Visualization**\n",
        "with open(name_file) as ifile:\n",
        "  system=\"\".join([x for x in ifile])\n",
        "\n",
        "view = py3Dmol.view(width=600, height=600)\n",
        "view.addModel(system,\"pdb\")\n",
        "# Establecer estilo para ocultar átomos de hidrógeno\n",
        "view.addStyle({'stick': {}})\n",
        "#view.addStyle( {'stick': {'colorscheme':'orangeCarbon'}})\n",
        "#view.addStyle({'resn':\"SER499\"}, {'stick': {'colorscheme':'orangeCarbon'}})\n",
        "view.addStyle({\"label\":{\"colorscheme\":\"greenCarbon\"}})\n",
        "view.zoomTo()\n",
        "view.show()\n",
        "\n",
        "# Guardar la imagen\n",
        "view.png()"
      ],
      "metadata": {
        "id": "9yci9OjFALEx"
      },
      "execution_count": null,
      "outputs": []
    },
    {
      "cell_type": "code",
      "source": [
        "#@title **Load files in PYMOL**\n",
        "cmd.load(name_file)"
      ],
      "metadata": {
        "id": "jO1HEZL9BvCo"
      },
      "execution_count": null,
      "outputs": []
    },
    {
      "cell_type": "code",
      "source": [
        "#@title **Number of molecules**\n",
        "max_resid_value = df.iloc[-1,4]\n",
        "max_resid_value"
      ],
      "metadata": {
        "id": "p7VLgt2IF_sw"
      },
      "execution_count": null,
      "outputs": []
    },
    {
      "cell_type": "code",
      "source": [
        "num_rosettes = int(max_resid_value) / 6 # 6 molecules per rosette\n",
        "num_rosettes = int(num_rosettes)\n",
        "num_rosettes"
      ],
      "metadata": {
        "id": "6xnKF-rDGotq"
      },
      "execution_count": null,
      "outputs": []
    },
    {
      "cell_type": "code",
      "source": [
        "angle_to_rotate = 60 # change by angle of interest\n",
        "num_residuos = 6 # 6 molecules per rosette\n",
        "\n",
        "lst = []\n",
        "\n",
        "#with open(work_folder+\"/\"+name_base+\"_rotate.pdb\", \"w\") as file:\n",
        "for i in range(num_rosettes):\n",
        "    resid_initial = 1 + i*num_residuos\n",
        "    resid_final = resid_initial + num_residuos - 1\n",
        "    print(f\"t{i+1} range {resid_initial}:{resid_final}\")\n",
        "\n",
        "    cmd.select(f\"t{i+1}\", f\"resid {resid_initial}:{resid_final}\")\n",
        "    cmd.rotate(\"z\",i*angle_to_rotate,f\"t{i+1}\")\n",
        "    cmd.save(work_folder+\"/\"+name_base+\"_rotate.pdb\")\n",
        "    print(f\"t{i+1} has been rotated {i*angle_to_rotate} degrees\")\n",
        "\n",
        "#for i in range(5):\n",
        "    #cmd.rotate(\"z\",i*2*angle_to_rotate,f\"t{i+1}\")\n",
        "    #cmd.rotate(\"z\",angle_to_rotate,f\"t{i+1}\")\n",
        "#cmd.rotate(\"z\",angle_to_rotate,\"t1\")\n",
        "#cmd.rotate(\"z\",2*angle_to_rotate,\"t2\")\n",
        "\n",
        "    #print(f\"t{i+1} has been rotated {i*angle_to_rotate} degrees\")\n",
        "\n",
        "#cmd.save(work_folder+\"/\"+name_base+\"_rotate.pdb\")"
      ],
      "metadata": {
        "id": "wdTPAJr1AnNu"
      },
      "execution_count": null,
      "outputs": []
    },
    {
      "cell_type": "code",
      "source": [
        "#@title **Visualization**\n",
        "with open(work_folder+\"/\"+name_base+\"_rotate.pdb\") as ifile:\n",
        "  system=\"\".join([x for x in ifile])\n",
        "\n",
        "view = py3Dmol.view(width=600, height=600)\n",
        "view.addModel(system,\"pdb\")\n",
        "# Establecer estilo para ocultar átomos de hidrógeno\n",
        "view.addStyle({'stick': {}})\n",
        "#view.addStyle( {'stick': {'colorscheme':'orangeCarbon'}})\n",
        "#view.addStyle({'resn':\"SER499\"}, {'stick': {'colorscheme':'orangeCarbon'}})\n",
        "view.addStyle({\"label\":{\"colorscheme\":\"greenCarbon\"}})\n",
        "view.zoomTo()\n",
        "view.show()\n",
        "\n",
        "# Guardar la imagen\n",
        "view.png()"
      ],
      "metadata": {
        "id": "Ybk97clvC2By"
      },
      "execution_count": null,
      "outputs": []
    }
  ]
}
